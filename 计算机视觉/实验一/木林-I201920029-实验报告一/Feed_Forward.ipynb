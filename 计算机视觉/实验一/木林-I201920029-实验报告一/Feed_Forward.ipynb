{
 "cells": [
  {
   "cell_type": "code",
   "execution_count": 1,
   "id": "0f26ae33",
   "metadata": {},
   "outputs": [],
   "source": [
    "import torch\n",
    "from torch.utils.data import Dataset, DataLoader\n",
    "import torch.nn as nn\n",
    "import torch.nn.functional as F\n",
    "import torch.optim as optim\n",
    "import pandas\n",
    "from sklearn.model_selection import train_test_split"
   ]
  },
  {
   "cell_type": "code",
   "execution_count": 3,
   "id": "caa56b48",
   "metadata": {},
   "outputs": [
    {
     "name": "stdout",
     "output_type": "stream",
     "text": [
      "2.1.0\n"
     ]
    }
   ],
   "source": []
  },
  {
   "cell_type": "code",
   "execution_count": 2,
   "id": "4f1766e8",
   "metadata": {},
   "outputs": [],
   "source": [
    "class CustomDataset(Dataset):\n",
    "    def __init__(self, data, labels):\n",
    "        self.data = data\n",
    "        self.labels = labels\n",
    "\n",
    "    def __len__(self):\n",
    "        return len(self.data)\n",
    "\n",
    "    def __getitem__(self, idx):\n",
    "        return self.data[idx], self.labels[idx]"
   ]
  },
  {
   "cell_type": "code",
   "execution_count": 3,
   "id": "0a82bb28",
   "metadata": {},
   "outputs": [],
   "source": [
    "ds = pandas.read_csv(\"./dataset.csv\")\n",
    "X = ds.iloc[:, :-1].values\n",
    "y = ds.iloc[:, -1].values"
   ]
  },
  {
   "cell_type": "code",
   "execution_count": 20,
   "id": "8b3954c4",
   "metadata": {},
   "outputs": [],
   "source": [
    "\n",
    "train_data, test_data, train_labels, test_labels = train_test_split(X, y, test_size=0.1, shuffle=True)\n",
    "\n",
    "train_data = torch.from_numpy(train_data).float()\n",
    "test_data = torch.from_numpy(test_data).float()\n",
    "train_labels = torch.from_numpy(train_labels).long()\n",
    "test_labels = torch.from_numpy(test_labels).long()\n",
    "\n",
    "train_dataset = CustomDataset(train_data, train_labels)\n",
    "test_dataset = CustomDataset(test_data, test_labels)\n",
    "\n",
    "train_loader = DataLoader(train_dataset, batch_size=64, shuffle=True)\n",
    "test_loader = DataLoader(test_dataset, batch_size=64, shuffle=False)"
   ]
  },
  {
   "cell_type": "code",
   "execution_count": 21,
   "id": "c41c3521",
   "metadata": {},
   "outputs": [],
   "source": [
    "class FeedForward(nn.Module):\n",
    "    def __init__(self):\n",
    "        super(FeedForward, self).__init__()\n",
    "        self.func1 = nn.Linear(2, 32) \n",
    "        self.relufunc = nn.ReLU()\n",
    "        self.func2 = nn.Linear(32, 4)\n",
    "    \n",
    "    def forward(self, x):\n",
    "        x = self.func1(x)\n",
    "        x = self.relufunc(x)\n",
    "        x = self.func2(x)\n",
    "      \n",
    "        x = F.softmax(x, dim=0)\n",
    "        return x\n"
   ]
  },
  {
   "cell_type": "code",
   "execution_count": 23,
   "id": "0dafbe49",
   "metadata": {
    "scrolled": true
   },
   "outputs": [
    {
     "name": "stdout",
     "output_type": "stream",
     "text": [
      "e [1/100], Loss: 1.3492270708084106, Accuracy: 87.5%\n",
      "e [2/100], Loss: 1.3208187818527222, Accuracy: 93.75%\n",
      "e [3/100], Loss: 1.2989379167556763, Accuracy: 93.75%\n",
      "e [4/100], Loss: 1.2690439224243164, Accuracy: 93.75%\n",
      "e [5/100], Loss: 1.2559317350387573, Accuracy: 93.75%\n",
      "e [6/100], Loss: 1.2808897495269775, Accuracy: 81.25%\n",
      "e [7/100], Loss: 1.277245283126831, Accuracy: 81.25%\n",
      "e [8/100], Loss: 1.219722867012024, Accuracy: 93.75%\n",
      "e [9/100], Loss: 1.2129298448562622, Accuracy: 100.0%\n",
      "e [10/100], Loss: 1.2316428422927856, Accuracy: 87.5%\n",
      "e [11/100], Loss: 1.2387887239456177, Accuracy: 75.0%\n",
      "e [12/100], Loss: 1.2506983280181885, Accuracy: 68.75%\n",
      "e [13/100], Loss: 1.2527567148208618, Accuracy: 81.25%\n",
      "e [14/100], Loss: 1.2377221584320068, Accuracy: 87.5%\n",
      "e [15/100], Loss: 1.2194663286209106, Accuracy: 87.5%\n",
      "e [16/100], Loss: 1.2482388019561768, Accuracy: 75.0%\n",
      "e [17/100], Loss: 1.2218037843704224, Accuracy: 87.5%\n",
      "e [18/100], Loss: 1.222231149673462, Accuracy: 93.75%\n",
      "e [19/100], Loss: 1.2135988473892212, Accuracy: 93.75%\n",
      "e [20/100], Loss: 1.2792677879333496, Accuracy: 81.25%\n",
      "e [21/100], Loss: 1.27181875705719, Accuracy: 68.75%\n",
      "e [22/100], Loss: 1.2510563135147095, Accuracy: 93.75%\n",
      "e [23/100], Loss: 1.2771269083023071, Accuracy: 75.0%\n",
      "e [24/100], Loss: 1.21465003490448, Accuracy: 93.75%\n",
      "e [25/100], Loss: 1.2214391231536865, Accuracy: 87.5%\n",
      "e [26/100], Loss: 1.213120698928833, Accuracy: 93.75%\n",
      "e [27/100], Loss: 1.216544508934021, Accuracy: 87.5%\n",
      "e [28/100], Loss: 1.226494312286377, Accuracy: 87.5%\n",
      "e [29/100], Loss: 1.2253180742263794, Accuracy: 81.25%\n",
      "e [30/100], Loss: 1.2164634466171265, Accuracy: 93.75%\n",
      "e [31/100], Loss: 1.2155849933624268, Accuracy: 100.0%\n",
      "e [32/100], Loss: 1.218146562576294, Accuracy: 100.0%\n",
      "e [33/100], Loss: 1.2149142026901245, Accuracy: 100.0%\n",
      "e [34/100], Loss: 1.2117111682891846, Accuracy: 93.75%\n",
      "e [35/100], Loss: 1.212915062904358, Accuracy: 100.0%\n",
      "e [36/100], Loss: 1.2234809398651123, Accuracy: 87.5%\n",
      "e [37/100], Loss: 1.2684953212738037, Accuracy: 75.0%\n",
      "e [38/100], Loss: 1.2166357040405273, Accuracy: 100.0%\n",
      "e [39/100], Loss: 1.2120826244354248, Accuracy: 93.75%\n",
      "e [40/100], Loss: 1.2217273712158203, Accuracy: 81.25%\n",
      "e [41/100], Loss: 1.2158154249191284, Accuracy: 93.75%\n",
      "e [42/100], Loss: 1.2142232656478882, Accuracy: 93.75%\n",
      "e [43/100], Loss: 1.2264753580093384, Accuracy: 81.25%\n",
      "e [44/100], Loss: 1.214449167251587, Accuracy: 93.75%\n",
      "e [45/100], Loss: 1.2525324821472168, Accuracy: 81.25%\n",
      "e [46/100], Loss: 1.212272047996521, Accuracy: 93.75%\n",
      "e [47/100], Loss: 1.2156836986541748, Accuracy: 93.75%\n",
      "e [48/100], Loss: 1.2652934789657593, Accuracy: 93.75%\n",
      "e [49/100], Loss: 1.218396544456482, Accuracy: 100.0%\n",
      "e [50/100], Loss: 1.2083003520965576, Accuracy: 100.0%\n",
      "e [51/100], Loss: 1.2189247608184814, Accuracy: 87.5%\n",
      "e [52/100], Loss: 1.2219289541244507, Accuracy: 75.0%\n",
      "e [53/100], Loss: 1.2114452123641968, Accuracy: 100.0%\n",
      "e [54/100], Loss: 1.2196797132492065, Accuracy: 81.25%\n",
      "e [55/100], Loss: 1.2152891159057617, Accuracy: 87.5%\n",
      "e [56/100], Loss: 1.2235385179519653, Accuracy: 93.75%\n",
      "e [57/100], Loss: 1.2558097839355469, Accuracy: 68.75%\n",
      "e [58/100], Loss: 1.2615222930908203, Accuracy: 75.0%\n",
      "e [59/100], Loss: 1.2207690477371216, Accuracy: 81.25%\n",
      "e [60/100], Loss: 1.2158228158950806, Accuracy: 100.0%\n",
      "e [61/100], Loss: 1.2298176288604736, Accuracy: 87.5%\n",
      "e [62/100], Loss: 1.2186791896820068, Accuracy: 87.5%\n",
      "e [63/100], Loss: 1.214516282081604, Accuracy: 93.75%\n",
      "e [64/100], Loss: 1.2122231721878052, Accuracy: 93.75%\n",
      "e [65/100], Loss: 1.2183912992477417, Accuracy: 93.75%\n",
      "e [66/100], Loss: 1.264689326286316, Accuracy: 93.75%\n",
      "e [67/100], Loss: 1.214210867881775, Accuracy: 87.5%\n",
      "e [68/100], Loss: 1.2344032526016235, Accuracy: 81.25%\n",
      "e [69/100], Loss: 1.2238327264785767, Accuracy: 81.25%\n",
      "e [70/100], Loss: 1.2141201496124268, Accuracy: 93.75%\n",
      "e [71/100], Loss: 1.2172847986221313, Accuracy: 87.5%\n",
      "e [72/100], Loss: 1.2174268960952759, Accuracy: 93.75%\n",
      "e [73/100], Loss: 1.217065691947937, Accuracy: 93.75%\n",
      "e [74/100], Loss: 1.2140542268753052, Accuracy: 93.75%\n",
      "e [75/100], Loss: 1.2479736804962158, Accuracy: 68.75%\n",
      "e [76/100], Loss: 1.2198803424835205, Accuracy: 93.75%\n",
      "e [77/100], Loss: 1.2131752967834473, Accuracy: 100.0%\n",
      "e [78/100], Loss: 1.2229043245315552, Accuracy: 75.0%\n",
      "e [79/100], Loss: 1.2157890796661377, Accuracy: 87.5%\n",
      "e [80/100], Loss: 1.217078685760498, Accuracy: 100.0%\n",
      "e [81/100], Loss: 1.2233864068984985, Accuracy: 87.5%\n",
      "e [82/100], Loss: 1.216612458229065, Accuracy: 87.5%\n",
      "e [83/100], Loss: 1.2749512195587158, Accuracy: 87.5%\n",
      "e [84/100], Loss: 1.2144644260406494, Accuracy: 93.75%\n",
      "e [85/100], Loss: 1.2165526151657104, Accuracy: 100.0%\n",
      "e [86/100], Loss: 1.213462233543396, Accuracy: 93.75%\n",
      "e [87/100], Loss: 1.215530276298523, Accuracy: 87.5%\n",
      "e [88/100], Loss: 1.2133171558380127, Accuracy: 100.0%\n",
      "e [89/100], Loss: 1.2139778137207031, Accuracy: 93.75%\n",
      "e [90/100], Loss: 1.2138683795928955, Accuracy: 100.0%\n",
      "e [91/100], Loss: 1.2213188409805298, Accuracy: 93.75%\n",
      "e [92/100], Loss: 1.2117468118667603, Accuracy: 93.75%\n",
      "e [93/100], Loss: 1.2090785503387451, Accuracy: 100.0%\n",
      "e [94/100], Loss: 1.215688943862915, Accuracy: 100.0%\n",
      "e [95/100], Loss: 1.2187154293060303, Accuracy: 93.75%\n",
      "e [96/100], Loss: 1.2144032716751099, Accuracy: 93.75%\n",
      "e [97/100], Loss: 1.2166893482208252, Accuracy: 87.5%\n",
      "e [98/100], Loss: 1.2152363061904907, Accuracy: 93.75%\n",
      "e [99/100], Loss: 1.2193067073822021, Accuracy: 93.75%\n",
      "e [100/100], Loss: 1.2157503366470337, Accuracy: 93.75%\n"
     ]
    }
   ],
   "source": [
    "num_epochs = 100\n",
    "learning_rate = 0.001\n",
    "\n",
    "model = FeedForward()\n",
    "\n",
    "criterion = nn.CrossEntropyLoss()\n",
    "optimizer = torch.optim.Adam(model.parameters(), lr=learning_rate)\n",
    "\n",
    "for epoch in range(num_epochs):\n",
    "    for i, (inputs, targets) in enumerate(train_loader):\n",
    "        outputs = model(inputs)\n",
    "        targets -= 1\n",
    "        loss = criterion(outputs, targets.long())\n",
    "        \n",
    "        _, predicted = torch.max(outputs.data, 1)\n",
    "        total = targets.size(0)\n",
    "        correct = (predicted == targets).sum().item()\n",
    "        accuracy = correct / total\n",
    "\n",
    "        optimizer.zero_grad()\n",
    "        loss.backward()\n",
    "        optimizer.step()\n",
    "\n",
    "    print(f'e [{epoch+1}/{num_epochs}], Loss: {loss.item()}, Accuracy: {accuracy*100}%')\n",
    "\n"
   ]
  },
  {
   "cell_type": "code",
   "execution_count": 24,
   "id": "5f67aba3",
   "metadata": {},
   "outputs": [
    {
     "name": "stdout",
     "output_type": "stream",
     "text": [
      "Loss: 1.2124232053756714, Accuracy: 94.0%\n"
     ]
    }
   ],
   "source": [
    "model.eval()  \n",
    "with torch.no_grad():\n",
    "    correct = 0\n",
    "    total = 0\n",
    "    for i, (inputs, targets) in enumerate(test_loader):\n",
    "        outputs = model(inputs)\n",
    "        targets -= 1\n",
    "        loss = criterion(outputs, targets)\n",
    "        \n",
    "     \n",
    "        _, predicted = torch.max(outputs.data, 1)\n",
    "        total += targets.size(0)\n",
    "        correct += (predicted == targets).sum().item()\n",
    "        accuracy = correct / total\n",
    "\n",
    "print(f'Loss: {loss.item()}, Accuracy: {accuracy*100}%')"
   ]
  },
  {
   "cell_type": "code",
   "execution_count": null,
   "id": "2f78b090",
   "metadata": {},
   "outputs": [],
   "source": []
  }
 ],
 "metadata": {
  "kernelspec": {
   "display_name": "Python 3 (ipykernel)",
   "language": "python",
   "name": "python3"
  },
  "language_info": {
   "codemirror_mode": {
    "name": "ipython",
    "version": 3
   },
   "file_extension": ".py",
   "mimetype": "text/x-python",
   "name": "python",
   "nbconvert_exporter": "python",
   "pygments_lexer": "ipython3",
   "version": "3.9.18"
  }
 },
 "nbformat": 4,
 "nbformat_minor": 5
}
