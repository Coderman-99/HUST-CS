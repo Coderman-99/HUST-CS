{
 "cells": [
  {
   "cell_type": "code",
   "execution_count": 6,
   "metadata": {},
   "outputs": [
    {
     "data": {
      "image/png": "[encoded data removed]",
      "text/plain": [
       "<Figure size 432x288 with 1 Axes>"
      ]
     },
     "metadata": {
      "needs_background": "light"
     },
     "output_type": "display_data"
    },
    {
     "name": "stdout",
     "output_type": "stream",
     "text": [
      "(1797, 64)\n",
      "[[ 0.  0.  5. ...  0.  0.  0.]\n",
      " [ 0.  0.  0. ... 10.  0.  0.]\n",
      " [ 0.  0.  0. ... 16.  9.  0.]\n",
      " ...\n",
      " [ 0.  0.  7. ...  4.  0.  0.]\n",
      " [ 0.  0.  5. ...  9.  0.  0.]\n",
      " [ 0.  0. 15. ...  0.  0.  0.]]\n"
     ]
    },
    {
     "data": {
      "image/png": "[encoded data removed]",
      "text/plain": [
       "<Figure size 432x288 with 1 Axes>"
      ]
     },
     "metadata": {
      "needs_background": "light"
     },
     "output_type": "display_data"
    },
    {
     "data": {
      "text/plain": [
       "array([3])"
      ]
     },
     "execution_count": 6,
     "metadata": {},
     "output_type": "execute_result"
    }
   ],
   "source": [
    "from sklearn.datasets import *\n",
    "import pandas as pd\n",
    "%matplotlib inline\n",
    "\n",
    "import matplotlib.pyplot as plt\n",
    "def displayImgae(i):\n",
    "    plt.imshow(digit['images'][i], cmap='Greys_r')\n",
    "    plt.show()\n",
    "\n",
    "\n",
    "digit = load_digits()\n",
    "dig = pd.DataFrame(digit['data'][0:1700])\n",
    "dig.head()\n",
    "\n",
    "displayImgae(0)\n",
    "\n",
    "digit.keys()\n",
    "train_x = digit['data'][:1700]\n",
    "train_y =  digit['target'][:1700]\n",
    "print(digit['data'].shape)\n",
    "print(train_x)\n",
    "\n",
    "from sklearn.neighbors import KNeighborsClassifier\n",
    "\n",
    "KNN = KNeighborsClassifier(10)\n",
    "KNN.fit(train_x, train_y)\n",
    "\n",
    "import numpy as np\n",
    "test = np.array(digit['data'][1726])\n",
    "test1 = test.reshape(1,-1)\n",
    "displayImgae(1726)\n",
    "\n",
    "KNN.predict(test1)"
   ]
  },
  {
   "cell_type": "code",
   "execution_count": null,
   "metadata": {},
   "outputs": [],
   "source": []
  }
 ],
 "metadata": {
  "kernelspec": {
   "display_name": "Python 3",
   "language": "python",
   "name": "python3"
  },
  "language_info": {
   "codemirror_mode": {
    "name": "ipython",
    "version": 3
   },
   "file_extension": ".py",
   "mimetype": "text/x-python",
   "name": "python",
   "nbconvert_exporter": "python",
   "pygments_lexer": "ipython3",
   "version": "3.7.6"
  }
 },
 "nbformat": 4,
 "nbformat_minor": 4
}
